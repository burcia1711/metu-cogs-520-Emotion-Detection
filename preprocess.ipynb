{
  "nbformat": 4,
  "nbformat_minor": 0,
  "metadata": {
    "language_info": {
      "codemirror_mode": {
        "name": "ipython",
        "version": 3
      },
      "file_extension": ".py",
      "mimetype": "text/x-python",
      "name": "python",
      "nbconvert_exporter": "python",
      "pygments_lexer": "ipython3",
      "version": "3.8.5-final"
    },
    "orig_nbformat": 2,
    "kernelspec": {
      "name": "Python 3.8.5 64-bit",
      "display_name": "Python 3.8.5 64-bit",
      "metadata": {
        "interpreter": {
          "hash": "767d51c1340bd893661ea55ea3124f6de3c7a262a8b4abca0554b478b1e2ff90"
        }
      }
    },
    "colab": {
      "name": "preprocess-3.ipynb",
      "provenance": [],
      "collapsed_sections": []
    }
  },
  "cells": [
    {
      "cell_type": "code",
      "execution_count": null,
      "metadata": {},
      "outputs": [],
      "source": [
        "\n",
        "# for reading file names in a directory\n",
        "import glob\n",
        "import string \n",
        "import re"
      ]
    },
    {
      "cell_type": "code",
      "execution_count": null,
      "metadata": {},
      "outputs": [],
      "source": [
        "input_path = \"./in/\"\n",
        "output_path = \"./out/\"\n"
      ]
    },
    {
      "cell_type": "code",
      "execution_count": null,
      "metadata": {},
      "outputs": [],
      "source": [
        "def read_and_store_input(input_path):\n",
        "    # initialize dictionary\n",
        "    data = {}\n",
        "    # read file names from the input directory\n",
        "    input_files = glob.glob(input_path+'*.txt')\n",
        "    for file_path in input_files:\n",
        "        content = open(file_path, 'r')\n",
        "        # create an empty list with a key as the name of the current file\n",
        "        file_name = file_path.split('/')[-1]\n",
        "        data[file_name]=[]\n",
        "        # populate the list with content from file\n",
        "        for line in content:\n",
        "            # check if line has content\n",
        "            if line.strip() != \"\":\n",
        "                data[file_name].append(line)\n",
        "    return data\n",
        "\n",
        "data = read_and_store_input(input_path)\n"
      ]
    }
  ]
}